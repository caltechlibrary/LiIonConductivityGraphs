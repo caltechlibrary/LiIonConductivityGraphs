{
 "cells": [
  {
   "cell_type": "code",
   "execution_count": null,
   "id": "536aabf7-c651-4aaf-a12f-2c19a799f348",
   "metadata": {},
   "outputs": [],
   "source": [
    "import pandas as pd\n",
    "import os\n",
    "import shutil\n",
    "import re\n",
    "import sys\n",
    "sys.path.append(r'../scripts')\n",
    "\n",
    "from data_featurization import load_data, load_cif_structure, order_structure, remove_li_from_mixed_sites, generate_ordered_struc_list\n",
    "\n",
    "from pymatgen.transformations.standard_transformations import OrderDisorderedStructureTransformation\n",
    "from func_timeout import func_timeout, FunctionTimedOut\n",
    "\n",
    "import warnings\n",
    "warnings.filterwarnings(\"ignore\")\n",
    "\n",
    "from tqdm import tqdm\n",
    "tqdm.pandas()"
   ]
  },
  {
   "cell_type": "markdown",
   "id": "8c30a11c-129f-4ef0-906b-54c3799c1b23",
   "metadata": {},
   "source": [
    "### Define paths for relevant directories"
   ]
  },
  {
   "cell_type": "markdown",
   "id": "79616710-0c4c-4dc3-98ae-b9474d932e02",
   "metadata": {},
   "source": [
    "Please note that ICSD CIFs are not supplied in this repository."
   ]
  },
  {
   "cell_type": "code",
   "execution_count": null,
   "id": "5a8e52d2-d283-4982-8e82-3f92ce3724c2",
   "metadata": {},
   "outputs": [],
   "source": [
    "icsd_li_cifs_path = r\"..\\data\\icsd_li_cifs\"\n",
    "labelled_conductivity_database_path = r\"..\\data\\ionic_conductivity_database_11022023.csv\"\n",
    "output_ordered_cifs_dir = r\"..\\data\\ordered_icsd_wo_li_cifs\""
   ]
  },
  {
   "cell_type": "markdown",
   "id": "ee640ada-8d00-4a7c-b784-022ff256bd34",
   "metadata": {},
   "source": [
    "### Load labelled database and associated Pymatgen Structures"
   ]
  },
  {
   "cell_type": "code",
   "execution_count": null,
   "id": "115a293e-34a9-42f3-b1ea-2d54ebd0fb2b",
   "metadata": {},
   "outputs": [],
   "source": [
    "labelled_conductivity_database = load_data(labelled_conductivity_database_path)\n",
    "labelled_conductivity_database['structure'] = labelled_conductivity_database['icsd_collectioncode'].progress_apply(load_cif_structure, cif_dir=icsd_li_cifs_path) \n",
    "labelled_conductivity_database['structure_wo_Li'] = labelled_conductivity_database['structure'].progress_apply(remove_li_from_mixed_sites) "
   ]
  },
  {
   "cell_type": "markdown",
   "id": "23de14c5-dfb4-4bc8-bab2-ea02f091e189",
   "metadata": {},
   "source": [
    "### Order structures using Pymatgen OrderDisorderedStructureTransformation"
   ]
  },
  {
   "cell_type": "markdown",
   "id": "ef7201c1-f71a-459e-890e-97c6e04537ee",
   "metadata": {},
   "source": [
    "Please note that this process can take exceedingly long for some structures and so ordering was run in parallel on an HPC with appropriate timeouts."
   ]
  },
  {
   "cell_type": "code",
   "execution_count": null,
   "id": "8945d233-4524-4332-8bf9-533a9b5dfea0",
   "metadata": {},
   "outputs": [],
   "source": [
    "os.makedirs(output_ordered_cifs_dir, exist_ok=True)\n",
    "\n",
    "for index, row in tqdm(labelled_conductivity_database.iterrows(), total=labelled_conductivity_database.shape[0]):\n",
    "    \n",
    "    icsd_code = row['icsd_collectioncode']\n",
    "    structure = row['structure_wo_Li']\n",
    "    print(f'Attempting to order {icsd_code}')\n",
    "    \n",
    "    # Check if the structure is already ordered\n",
    "    if structure.is_ordered:\n",
    "        # Copy the original CIF to the output directory with the new filename\n",
    "        input_cif_path = os.path.join(icsd_li_cifs_path, f\"{icsd_code}.cif\")\n",
    "        output_cif_path = os.path.join(output_ordered_cifs_dir, f\"{icsd_code}_ordered.cif\")\n",
    "        if os.path.exists(input_cif_path):\n",
    "            shutil.copy(input_cif_path, output_cif_path)\n",
    "            print(f\"Copied ordered structure for ICSD {icsd_code}\")\n",
    "        else:\n",
    "            print(f\"CIF file for ICSD {icsd_code} not found.\")\n",
    "    else:\n",
    "        ordered_list = generate_ordered_struc_list(structure)\n",
    "        if ordered_list is not None and len(ordered_list) > 0:\n",
    "            # Take the first ordered structure and save as a new CIF\n",
    "            ordered_structure = ordered_list[0]['structure']\n",
    "            output_cif_path = os.path.join(output_ordered_cifs_dir, f\"{icsd_code}_ordered.cif\")\n",
    "            ordered_structure.to(output_cif_path, fmt=\"cif\")\n",
    "            print(f\"Saved ordered structure for ICSD {icsd_code}\")\n",
    "        else:\n",
    "            print(f\"Failed to order structure for ICSD {icsd_code}\")"
   ]
  }
 ],
 "metadata": {
  "kernelspec": {
   "display_name": "Python 3 (ipykernel)",
   "language": "python",
   "name": "python3"
  },
  "language_info": {
   "codemirror_mode": {
    "name": "ipython",
    "version": 3
   },
   "file_extension": ".py",
   "mimetype": "text/x-python",
   "name": "python",
   "nbconvert_exporter": "python",
   "pygments_lexer": "ipython3",
   "version": "3.9.18"
  }
 },
 "nbformat": 4,
 "nbformat_minor": 5
}
