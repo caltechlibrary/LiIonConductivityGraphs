{
 "cells": [
  {
   "cell_type": "code",
   "execution_count": 1,
   "id": "613fe1b1-3242-48e7-bb55-8b6ce0e98fdc",
   "metadata": {},
   "outputs": [],
   "source": [
    "import sys\n",
    "sys.path.append('./scripts')\n",
    "\n",
    "import numpy as np\n",
    "import pandas as pd\n",
    "import os\n",
    "import re\n",
    "\n",
    "from mp_api.client import MPRester\n",
    "\n",
    "from data_featurization import (load_data, load_cif_structure, load_ordered_cif_structure, remove_charges, simplify_structure, \n",
    "remove_li_from_mixed_sites, construct_megnet_graph, get_megnet_feature, get_megnet_composition_feature, find_duplicate_structures, \n",
    "get_space_group, get_el2md_mapper, get_formula, get_normalized_formula)\n",
    "\n",
    "from tqdm.auto import tqdm as tqdm_pandas\n",
    "import warnings\n",
    "\n",
    "warnings.filterwarnings(\"ignore\")\n",
    "tqdm_pandas.pandas()"
   ]
  },
  {
   "cell_type": "code",
   "execution_count": 2,
   "id": "d2b26f7a-54f3-4b24-91e0-6d76b30a16d7",
   "metadata": {},
   "outputs": [],
   "source": [
    "def check_in_icsd(row):\n",
    "    if isinstance(row['database_IDs'], dict) and 'icsd' in row['database_IDs']:\n",
    "        return False\n",
    "    else:\n",
    "        return True"
   ]
  },
  {
   "cell_type": "markdown",
   "id": "95db42a4-c214-4971-8b75-136d18efea9f",
   "metadata": {},
   "source": [
    "### Define paths for relevant directories"
   ]
  },
  {
   "cell_type": "markdown",
   "id": "bedd2d56-c069-448d-a097-7a92cfdf6b1f",
   "metadata": {},
   "source": [
    "ICSD cifs are not public and so not included in this repository."
   ]
  },
  {
   "cell_type": "code",
   "execution_count": 3,
   "id": "383c69be-6111-476a-8af5-5e6aa8b2330f",
   "metadata": {},
   "outputs": [],
   "source": [
    "icsd_database_path = r\".\\data\\li_containing_materials_icsd_03272024.csv\"\n",
    "labelled_conductivity_database_path = r\".\\data\\ionic_conductivity_database_11022023.csv\"\n",
    "icsd_li_cifs_path = r\"C:\\Users\\mchaf\\Desktop\\icsd_li_cifs\"\n",
    "\n",
    "pretrained_model_path_eform = r\".\\megnet\\mvl_models\\mp-2019.4.1\\formation_energy.hdf5\"\n",
    "pretrained_model_path_bg = r\".\\megnet\\mvl_models\\mp-2018.6.1\\band_gap_regression.hdf5\"\n",
    "pretrained_disordered_model_path_eform = r\".\\mp-2019_4_1_formation_energy_disordered\"\n",
    "pretrained_disordered_model_path_bg = \".\\mp-2018_6_1_band_gap_regression_disordered\""
   ]
  },
  {
   "cell_type": "markdown",
   "id": "7b3b7012-1741-441f-8c3e-f6675fb05b42",
   "metadata": {},
   "source": [
    "### Load and filter ICSD database entries"
   ]
  },
  {
   "cell_type": "code",
   "execution_count": 4,
   "id": "c8740753-7fa0-4489-aa62-61dcd596c24d",
   "metadata": {},
   "outputs": [
    {
     "name": "stdout",
     "output_type": "stream",
     "text": [
      "There are currently 11295 Li-containing materials in the ICSD as of 03/27/2024.\n"
     ]
    }
   ],
   "source": [
    "icsd_database = pd.read_csv(icsd_database_path)\n",
    "print(f\"There are currently {len(icsd_database)} Li-containing materials in the ICSD as of 03/27/2024.\")"
   ]
  },
  {
   "cell_type": "markdown",
   "id": "05454921-b895-4ea3-955d-9e4c4ef2ca00",
   "metadata": {},
   "source": [
    "### Load structures and check how many are disordered"
   ]
  },
  {
   "cell_type": "code",
   "execution_count": 5,
   "id": "8b3b39f4-28e5-49c2-88a4-ecab487d4444",
   "metadata": {},
   "outputs": [
    {
     "data": {
      "application/vnd.jupyter.widget-view+json": {
       "model_id": "c69c72fe8d39427b86f625b895525535",
       "version_major": 2,
       "version_minor": 0
      },
      "text/plain": [
       "  0%|          | 0/11295 [00:00<?, ?it/s]"
      ]
     },
     "metadata": {},
     "output_type": "display_data"
    },
    {
     "name": "stdout",
     "output_type": "stream",
     "text": [
      "Invalid CIF file with no structures!\n",
      "The structure could not be loaded for ICSD entry 78313\n",
      "Invalid CIF file with no structures!\n",
      "The structure could not be loaded for ICSD entry 78314\n",
      "Invalid CIF file with no structures!\n",
      "The structure could not be loaded for ICSD entry 185529\n",
      "Invalid CIF file with no structures!\n",
      "The structure could not be loaded for ICSD entry 185530\n",
      "Invalid CIF file with no structures!\n",
      "The structure could not be loaded for ICSD entry 96650\n",
      "Invalid CIF file with no structures!\n",
      "The structure could not be loaded for ICSD entry 96649\n",
      "Invalid CIF file with no structures!\n",
      "The structure could not be loaded for ICSD entry 96652\n",
      "Invalid CIF file with no structures!\n",
      "The structure could not be loaded for ICSD entry 96651\n",
      "Invalid CIF file with no structures!\n",
      "The structure could not be loaded for ICSD entry 96654\n",
      "Invalid CIF file with no structures!\n",
      "The structure could not be loaded for ICSD entry 96653\n",
      "Invalid CIF file with no structures!\n",
      "The structure could not be loaded for ICSD entry 96656\n",
      "Invalid CIF file with no structures!\n",
      "The structure could not be loaded for ICSD entry 96655\n",
      "12 cif files could not be read properly\n"
     ]
    }
   ],
   "source": [
    "icsd_database['structure'] = icsd_database['icsd_collectioncode'].progress_apply(load_cif_structure, cif_dir=icsd_li_cifs_path)\n",
    "incorrectly_formatted_cifs = icsd_database['structure'].isna().sum()\n",
    "print(f\"{incorrectly_formatted_cifs} cif files could not be read properly\")"
   ]
  },
  {
   "cell_type": "code",
   "execution_count": 6,
   "id": "bb8dca07-cef4-487d-8fac-7205a5fe5bd9",
   "metadata": {},
   "outputs": [
    {
     "name": "stdout",
     "output_type": "stream",
     "text": [
      "Of the 11295 Li-containing materials in the ICSD as of 03/27/2024, 6860 contain site disorder\n"
     ]
    }
   ],
   "source": [
    "disordered_count = 0\n",
    "ordered_count = 0\n",
    "for struc in icsd_database['structure'].to_list():\n",
    "    if struc:\n",
    "        if struc.is_ordered:\n",
    "            ordered_count += 1\n",
    "        else:\n",
    "            disordered_count += 1\n",
    "\n",
    "# There are 12 Li-containing cifs that cannot be read by Pymatgen due to improperly formatting. These are all disordered.\n",
    "disordered_count += 12\n",
    "print(f\"Of the {len(icsd_database)} Li-containing materials in the ICSD as of 03/27/2024, {disordered_count} contain site disorder\")"
   ]
  },
  {
   "cell_type": "code",
   "execution_count": 13,
   "id": "b0a38dca-3f76-4518-99a8-f740b00bcf50",
   "metadata": {},
   "outputs": [
    {
     "name": "stdout",
     "output_type": "stream",
     "text": [
      "There are 10725 that do not have associated ionic conductivity values.\n"
     ]
    }
   ],
   "source": [
    "labelled_conductivity_database = pd.read_csv(labelled_conductivity_database_path)\n",
    "labelled_collectioncodes = set(labelled_conductivity_database['icsd_collectioncode'])\n",
    "icsd_database_unlabelled = icsd_database[~icsd_database['icsd_collectioncode'].isin(labelled_collectioncodes)]\n",
    "print(f\"There are {len(icsd_database_unlabelled)} that do not have associated ionic conductivity values.\")"
   ]
  },
  {
   "cell_type": "markdown",
   "id": "7717a9b0-d530-4472-a419-eb8aed2ef465",
   "metadata": {},
   "source": [
    "### Perform structure simplification"
   ]
  },
  {
   "cell_type": "code",
   "execution_count": 8,
   "id": "511f5abd-aac9-44bb-b1f4-dbef95f5a6be",
   "metadata": {},
   "outputs": [
    {
     "data": {
      "application/vnd.jupyter.widget-view+json": {
       "model_id": "4444ab6597b2457899cbfb44773c8079",
       "version_major": 2,
       "version_minor": 0
      },
      "text/plain": [
       "  0%|          | 0/10725 [00:00<?, ?it/s]"
      ]
     },
     "metadata": {},
     "output_type": "display_data"
    }
   ],
   "source": [
    "icsd_database_unlabelled['structure_simplified'] = icsd_database_unlabelled['structure'].progress_apply(simplify_structure)"
   ]
  },
  {
   "cell_type": "markdown",
   "id": "3ade3501-3480-4c44-9555-869cc5dcef62",
   "metadata": {},
   "source": [
    "### Construct MEGNet graphs using linear combination of embeddings to represent disordered sites and featurize data using MEGNet Site describer"
   ]
  },
  {
   "cell_type": "code",
   "execution_count": null,
   "id": "bc048f18-98ae-429a-a982-99e162297431",
   "metadata": {},
   "outputs": [],
   "source": [
    "cg_disordered = CrystalGraphDisordered(bond_converter=GaussianDistance(np.linspace(0, 6, 100), 0.5), cutoff=5)\n",
    "pretrained_model = MEGNetModel.from_file(pretrained_model_path_eform)\n",
    "weights = pretrained_model.get_weights()\n",
    "elemental_embeddings = weights[0]\n",
    "\n",
    "structure_columns = ['structure', 'structure_simplified']\n",
    "feature_columns = []\n",
    "for structure_type in structure_columns:\n",
    "    # Define column name for the corresponding MEGNet graph representation\n",
    "    graph_column_name = \"megnet_graph_\" + structure_type\n",
    "    icsd_database_rt_unlabelled[graph_column_name] = icsd_database_rt_unlabelled[structure_type].progress_apply(construct_megnet_graph, graph_converter=cg_disordered, embeddings=elemental_embeddings)\n",
    "    # Iterate over different levels of MEGNet site describers\n",
    "    for i in range(1, 4):\n",
    "        # Initialize MEGNetSite describer for the current level\n",
    "        megnet_describer = MEGNetSite(level=i, name=pretrained_disordered_model_path_eform)\n",
    "        feature_column_name = structure_type + f\"_megnet_site_feature_level_{i}_2019_4_1_formation_energy\"\n",
    "        icsd_database_rt_unlabelled[feature_column_name] = icsd_database_rt_unlabelled[graph_column_name].progress_apply(get_megnet_feature, describer=megnet_describer)\n",
    "icsd_database_rt_unlabelled.to_pickle(\".\\data\\icsd_database_unlabelled_featurized.pkl\")"
   ]
  },
  {
   "cell_type": "code",
   "execution_count": 9,
   "id": "ce3225e2-ea10-479a-b95b-16bd1a028980",
   "metadata": {},
   "outputs": [
    {
     "data": {
      "application/vnd.jupyter.widget-view+json": {
       "model_id": "d025760ce95849fc8f9ccac302db5440",
       "version_major": 2,
       "version_minor": 0
      },
      "text/plain": [
       "  0%|          | 0/10714 [00:00<?, ?it/s]"
      ]
     },
     "metadata": {},
     "output_type": "display_data"
    },
    {
     "data": {
      "application/vnd.jupyter.widget-view+json": {
       "model_id": "db511d8aa9504369add48dcc890b9920",
       "version_major": 2,
       "version_minor": 0
      },
      "text/plain": [
       "  0%|          | 0/10714 [00:00<?, ?it/s]"
      ]
     },
     "metadata": {},
     "output_type": "display_data"
    }
   ],
   "source": [
    "icsd_database_unlabelled_featurized = pd.read_pickle(\".\\data\\icsd_database_unlabelled_featurized.pkl\")\n",
    "icsd_database_unlabelled_featurized = icsd_database_unlabelled_featurized[icsd_database_unlabelled_featurized['structure'].notna()]\n",
    "icsd_database_unlabelled_featurized['normalized_formula'] = icsd_database_unlabelled_featurized['structure'].progress_apply(get_normalized_formula)\n",
    "icsd_database_unlabelled_featurized['formula'] = icsd_database_unlabelled_featurized['structure'].progress_apply(get_formula)"
   ]
  },
  {
   "cell_type": "markdown",
   "id": "a6e8c767-b131-40b0-9a52-a48aa23d8801",
   "metadata": {},
   "source": [
    "### Retrieve bandgap from Materials Project"
   ]
  },
  {
   "cell_type": "code",
   "execution_count": 19,
   "id": "f3b02613-6ece-4c15-a68f-ce5b06cd11f7",
   "metadata": {},
   "outputs": [
    {
     "data": {
      "application/vnd.jupyter.widget-view+json": {
       "model_id": "a584e4743c624d889218b1ce652b8a8d",
       "version_major": 2,
       "version_minor": 0
      },
      "text/plain": [
       "Retrieving SummaryDoc documents:   0%|          | 0/21686 [00:00<?, ?it/s]"
      ]
     },
     "metadata": {},
     "output_type": "display_data"
    },
    {
     "data": {
      "application/vnd.jupyter.widget-view+json": {
       "model_id": "7b2e2512325846e783b64eb4142dd03e",
       "version_major": 2,
       "version_minor": 0
      },
      "text/plain": [
       "  0%|          | 0/10714 [00:00<?, ?it/s]"
      ]
     },
     "metadata": {},
     "output_type": "display_data"
    }
   ],
   "source": [
    "with MPRester(\"***REMOVED***\") as mpr:\n",
    "    docs = mpr.summary.search(elements=[\"Li\"], fields=['material_id', 'composition', 'composition_reduced', 'formula_pretty', 'structure', 'band_gap', 'energy_above_hull', 'theoretical', 'database_IDs'])\n",
    "docs = [dict(i) for i in docs]\n",
    "mp_df = pd.DataFrame(docs)\n",
    "mp_icsd_band_gap_dict = {}\n",
    "for index, row in mp_df.iterrows():\n",
    "    if 'icsd' in row['database_IDs']:\n",
    "        icsd_values = row['database_IDs']['icsd']\n",
    "        band_gap = row['band_gap']\n",
    "        for icsd in icsd_values:\n",
    "            icsd_numerical = int(icsd.split('-')[1])\n",
    "            mp_icsd_band_gap_dict[icsd_numerical] = band_gap\n",
    "\n",
    "icsd_database_unlabelled_featurized['band_gap_mp'] = icsd_database_unlabelled_featurized['icsd_collectioncode'].progress_apply(extract_band_gap_mp, mp_icsd_band_gap_dict=mp_icsd_band_gap_dict)"
   ]
  },
  {
   "cell_type": "markdown",
   "id": "42a8a14b-350b-45f1-a51e-f0a75befb983",
   "metadata": {},
   "source": [
    "### Predict bandgap with MEGNet Pretrained model"
   ]
  },
  {
   "cell_type": "code",
   "execution_count": 20,
   "id": "8a0ec84f-93b6-4b02-bc98-82a022c56f0b",
   "metadata": {},
   "outputs": [
    {
     "data": {
      "application/vnd.jupyter.widget-view+json": {
       "model_id": "e8ace46b67574dd1a0265aae8f230dfe",
       "version_major": 2,
       "version_minor": 0
      },
      "text/plain": [
       "  0%|          | 0/10714 [00:00<?, ?it/s]"
      ]
     },
     "metadata": {},
     "output_type": "display_data"
    },
    {
     "name": "stderr",
     "output_type": "stream",
     "text": [
      "WARNING:megnet.data.graph:Isolated atoms found in the structure. The cutoff radius might be small\n"
     ]
    },
    {
     "data": {
      "application/vnd.jupyter.widget-view+json": {
       "model_id": "1678d98c6b134ff5958af7907d07da71",
       "version_major": 2,
       "version_minor": 0
      },
      "text/plain": [
       "  0%|          | 0/10714 [00:00<?, ?it/s]"
      ]
     },
     "metadata": {},
     "output_type": "display_data"
    }
   ],
   "source": [
    "cg_disordered = CrystalGraphDisordered(bond_converter=GaussianDistance(np.linspace(0, 6, 100), 0.5), cutoff=5)\n",
    "pretrained_model = MEGNetModel.from_file(pretrained_model_path_bg)\n",
    "weights = pretrained_model.get_weights()\n",
    "elemental_embeddings = weights[0]\n",
    "pretrained_disordered_model_bg = MEGNetModel.from_file(pretrained_disordered_model_path_bg)\n",
    "icsd_database_unlabelled_featurized['megnet_graph_structure_band_regression'] = icsd_database_unlabelled_featurized['structure'].progress_apply(construct_megnet_graph, graph_converter=cg_disordered, embeddings=elemental_embeddings)\n",
    "icsd_database_unlabelled_featurized['band_gap_prediction_megnet'] = icsd_database_unlabelled_featurized['megnet_graph_structure_band_regression'].progress_apply(predict_band_gap, model=pretrained_disordered_model_bg)\n",
    "icsd_database_unlabelled_featurized.to_pickle(\".\\data\\icsd_database_unlabelled_featurized_w_bg.pkl\")"
   ]
  },
  {
   "cell_type": "markdown",
   "id": "43545f9a-25ea-4bf8-9f09-7aeda9074356",
   "metadata": {},
   "source": [
    "## Featurize Li-containing Materials in Materials Project "
   ]
  },
  {
   "cell_type": "code",
   "execution_count": 16,
   "id": "6cf89bbd-35f1-49da-83d7-eda206daca0e",
   "metadata": {},
   "outputs": [
    {
     "data": {
      "application/vnd.jupyter.widget-view+json": {
       "model_id": "0e513123ab2d4c4ba127c92a9c42c0a1",
       "version_major": 2,
       "version_minor": 0
      },
      "text/plain": [
       "  0%|          | 0/19451 [00:00<?, ?it/s]"
      ]
     },
     "metadata": {},
     "output_type": "display_data"
    },
    {
     "data": {
      "application/vnd.jupyter.widget-view+json": {
       "model_id": "ac11fcf908dc4b2c9b68e7ff5cf04821",
       "version_major": 2,
       "version_minor": 0
      },
      "text/plain": [
       "  0%|          | 0/19451 [00:00<?, ?it/s]"
      ]
     },
     "metadata": {},
     "output_type": "display_data"
    }
   ],
   "source": [
    "mp_database = mp_df[mp_df.apply(check_in_icsd, axis=1)]\n",
    "mp_database = mp_database[['material_id', 'formula_pretty', 'structure', 'energy_above_hull', 'database_IDs', 'theoretical', 'band_gap']]\n",
    "mp_database['normalized_formula'] = mp_database['structure'].progress_apply(get_normalized_formula)\n",
    "mp_database['formula'] = mp_database['structure'].progress_apply(get_formula)\n",
    "mp_database['structure'] = mp_database['structure'].progress_apply(add_oxidation_state)\n",
    "mp_database['structure_simplified'] = mp_database['structure'].progress_apply(simplify_structure)\n"
   ]
  },
  {
   "cell_type": "code",
   "execution_count": null,
   "id": "3dbeb1ce-adba-4e68-9343-055f5af3d3b4",
   "metadata": {},
   "outputs": [],
   "source": []
  }
 ],
 "metadata": {
  "kernelspec": {
   "display_name": "Python 3 (ipykernel)",
   "language": "python",
   "name": "python3"
  },
  "language_info": {
   "codemirror_mode": {
    "name": "ipython",
    "version": 3
   },
   "file_extension": ".py",
   "mimetype": "text/x-python",
   "name": "python",
   "nbconvert_exporter": "python",
   "pygments_lexer": "ipython3",
   "version": "3.9.18"
  }
 },
 "nbformat": 4,
 "nbformat_minor": 5
}
